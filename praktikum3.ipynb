{
 "cells": [
  {
   "cell_type": "code",
   "execution_count": 14,
   "id": "initial_id",
   "metadata": {
    "ExecuteTime": {
     "end_time": "2023-10-03T06:54:44.806953700Z",
     "start_time": "2023-10-03T06:54:41.584712800Z"
    },
    "collapsed": true
   },
   "outputs": [
    {
     "ename": "TypeError",
     "evalue": "StackingClassifier.__init__() missing 1 required positional argument: 'estimators'",
     "output_type": "error",
     "traceback": [
      "\u001b[1;31m---------------------------------------------------------------------------\u001b[0m",
      "\u001b[1;31mTypeError\u001b[0m                                 Traceback (most recent call last)",
      "\u001b[1;32md:\\KULIAH\\TUGAS KULIAH\\Semester 5\\Machine Learning\\Pertemuan 6\\praktikum3.ipynb Cell 1\u001b[0m line \u001b[0;36m1\n\u001b[0;32m      <a href='vscode-notebook-cell:/d%3A/KULIAH/TUGAS%20KULIAH/Semester%205/Machine%20Learning/Pertemuan%206/praktikum3.ipynb#W0sZmlsZQ%3D%3D?line=6'>7</a>\u001b[0m \u001b[39m# Load or generate your data and assign it to X and y\u001b[39;00m\n\u001b[0;32m      <a href='vscode-notebook-cell:/d%3A/KULIAH/TUGAS%20KULIAH/Semester%205/Machine%20Learning/Pertemuan%206/praktikum3.ipynb#W0sZmlsZQ%3D%3D?line=7'>8</a>\u001b[0m \u001b[39m# Replace this with your actual data loading or generation code\u001b[39;00m\n\u001b[0;32m      <a href='vscode-notebook-cell:/d%3A/KULIAH/TUGAS%20KULIAH/Semester%205/Machine%20Learning/Pertemuan%206/praktikum3.ipynb#W0sZmlsZQ%3D%3D?line=8'>9</a>\u001b[0m X \u001b[39m=\u001b[39m RandomForestClassifier()  \u001b[39m# Replace with your data\u001b[39;00m\n\u001b[1;32m---> <a href='vscode-notebook-cell:/d%3A/KULIAH/TUGAS%20KULIAH/Semester%205/Machine%20Learning/Pertemuan%206/praktikum3.ipynb#W0sZmlsZQ%3D%3D?line=9'>10</a>\u001b[0m y \u001b[39m=\u001b[39m StackingClassifier()  \u001b[39m# Replace with your labels\u001b[39;00m\n\u001b[0;32m     <a href='vscode-notebook-cell:/d%3A/KULIAH/TUGAS%20KULIAH/Semester%205/Machine%20Learning/Pertemuan%206/praktikum3.ipynb#W0sZmlsZQ%3D%3D?line=11'>12</a>\u001b[0m layer_one_estimators \u001b[39m=\u001b[39m [\n\u001b[0;32m     <a href='vscode-notebook-cell:/d%3A/KULIAH/TUGAS%20KULIAH/Semester%205/Machine%20Learning/Pertemuan%206/praktikum3.ipynb#W0sZmlsZQ%3D%3D?line=12'>13</a>\u001b[0m     (\u001b[39m'\u001b[39m\u001b[39mrf_1\u001b[39m\u001b[39m'\u001b[39m, RandomForestClassifier(n_estimators\u001b[39m=\u001b[39m\u001b[39m10\u001b[39m, random_state\u001b[39m=\u001b[39m\u001b[39m42\u001b[39m)),\n\u001b[0;32m     <a href='vscode-notebook-cell:/d%3A/KULIAH/TUGAS%20KULIAH/Semester%205/Machine%20Learning/Pertemuan%206/praktikum3.ipynb#W0sZmlsZQ%3D%3D?line=13'>14</a>\u001b[0m     (\u001b[39m'\u001b[39m\u001b[39mknn_1\u001b[39m\u001b[39m'\u001b[39m, KNeighborsClassifier(n_neighbors\u001b[39m=\u001b[39m\u001b[39m5\u001b[39m))\n\u001b[0;32m     <a href='vscode-notebook-cell:/d%3A/KULIAH/TUGAS%20KULIAH/Semester%205/Machine%20Learning/Pertemuan%206/praktikum3.ipynb#W0sZmlsZQ%3D%3D?line=14'>15</a>\u001b[0m ]\n\u001b[0;32m     <a href='vscode-notebook-cell:/d%3A/KULIAH/TUGAS%20KULIAH/Semester%205/Machine%20Learning/Pertemuan%206/praktikum3.ipynb#W0sZmlsZQ%3D%3D?line=16'>17</a>\u001b[0m layer_two_estimators \u001b[39m=\u001b[39m [\n\u001b[0;32m     <a href='vscode-notebook-cell:/d%3A/KULIAH/TUGAS%20KULIAH/Semester%205/Machine%20Learning/Pertemuan%206/praktikum3.ipynb#W0sZmlsZQ%3D%3D?line=17'>18</a>\u001b[0m     (\u001b[39m'\u001b[39m\u001b[39mdt_2\u001b[39m\u001b[39m'\u001b[39m, DecisionTreeClassifier()),\n\u001b[0;32m     <a href='vscode-notebook-cell:/d%3A/KULIAH/TUGAS%20KULIAH/Semester%205/Machine%20Learning/Pertemuan%206/praktikum3.ipynb#W0sZmlsZQ%3D%3D?line=18'>19</a>\u001b[0m     (\u001b[39m'\u001b[39m\u001b[39mrf_2\u001b[39m\u001b[39m'\u001b[39m, RandomForestClassifier(n_estimators\u001b[39m=\u001b[39m\u001b[39m50\u001b[39m, random_state\u001b[39m=\u001b[39m\u001b[39m42\u001b[39m))\n\u001b[0;32m     <a href='vscode-notebook-cell:/d%3A/KULIAH/TUGAS%20KULIAH/Semester%205/Machine%20Learning/Pertemuan%206/praktikum3.ipynb#W0sZmlsZQ%3D%3D?line=19'>20</a>\u001b[0m ]\n",
      "\u001b[1;31mTypeError\u001b[0m: StackingClassifier.__init__() missing 1 required positional argument: 'estimators'"
     ]
    }
   ],
   "source": [
    "from sklearn.ensemble import RandomForestClassifier, StackingClassifier\n",
    "from sklearn.linear_model import LogisticRegression\n",
    "from sklearn.model_selection import train_test_split\n",
    "from sklearn.neighbors import KNeighborsClassifier\n",
    "from sklearn.tree import DecisionTreeClassifier\n",
    "\n",
    "# Load or generate your data and assign it to X and y\n",
    "# Replace this with your actual data loading or generation code\n",
    "X = RandomForestClassifier()  # Replace with your data\n",
    "y = StackingClassifier()  # Replace with your labels\n",
    "\n",
    "layer_one_estimators = [\n",
    "    ('rf_1', RandomForestClassifier(n_estimators=10, random_state=42)),\n",
    "    ('knn_1', KNeighborsClassifier(n_neighbors=5))\n",
    "]\n",
    "\n",
    "layer_two_estimators = [\n",
    "    ('dt_2', DecisionTreeClassifier()),\n",
    "    ('rf_2', RandomForestClassifier(n_estimators=50, random_state=42))\n",
    "]\n",
    "\n",
    "layer_two = StackingClassifier(estimators=layer_two_estimators, final_estimator=LogisticRegression())\n",
    "\n",
    "clf = StackingClassifier(estimators=layer_one_estimators, final_estimator=layer_two)\n",
    "\n",
    "X_train, X_test, y_train, y_test = train_test_split(X, y, stratify=y, random_state=42)\n",
    "clf.fit(X_train, y_train).score(X_test, y_test)"
   ]
  }
 ],
 "metadata": {
  "kernelspec": {
   "display_name": "Python 3",
   "language": "python",
   "name": "python3"
  },
  "language_info": {
   "codemirror_mode": {
    "name": "ipython",
    "version": 3
   },
   "file_extension": ".py",
   "mimetype": "text/x-python",
   "name": "python",
   "nbconvert_exporter": "python",
   "pygments_lexer": "ipython3",
   "version": "3.11.4"
  }
 },
 "nbformat": 4,
 "nbformat_minor": 5
}
